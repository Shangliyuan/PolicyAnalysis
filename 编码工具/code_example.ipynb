{
 "cells": [
  {
   "cell_type": "markdown",
   "id": "520ac4ad-e154-454b-8526-9ae31373b81c",
   "metadata": {
    "jp-MarkdownHeadingCollapsed": true,
    "tags": []
   },
   "source": [
    "# code 3_1_1"
   ]
  },
  {
   "cell_type": "code",
   "execution_count": null,
   "id": "a1388c2f-d1d3-4887-b1fb-009d285cecba",
   "metadata": {},
   "outputs": [],
   "source": [
    "#安装torch相关包\n",
    "!conda install pytorch torchvision torchaudio pytorch-cuda=11.6 -c pytorch -c nvidia"
   ]
  },
  {
   "cell_type": "code",
   "execution_count": 1,
   "id": "60b710a5-7d26-4893-8f7a-469b97cd6724",
   "metadata": {},
   "outputs": [
    {
     "name": "stdout",
     "output_type": "stream",
     "text": [
      "tensor([[ 5.6546e-06,  3.0680e-41,  0.0000e+00],\n",
      "        [ 0.0000e+00,  1.4013e-45,  0.0000e+00],\n",
      "        [ 0.0000e+00,  0.0000e+00, -6.5197e+22],\n",
      "        [ 4.5555e-41,  0.0000e+00,  0.0000e+00],\n",
      "        [ 4.7536e+30,  4.6172e+24,  5.6052e-44]])\n"
     ]
    }
   ],
   "source": [
    "#测试torch是否安装成功\n",
    "import torch\n",
    "x = torch.empty(5,3)\n",
    "print(x)"
   ]
  },
  {
   "cell_type": "code",
   "execution_count": 4,
   "id": "f9d6ce8a-6791-4f88-82b0-208125ddcfdf",
   "metadata": {},
   "outputs": [
    {
     "data": {
      "text/plain": [
       "False"
      ]
     },
     "execution_count": 4,
     "metadata": {},
     "output_type": "execute_result"
    }
   ],
   "source": [
    "#测试能否调用GPU\n",
    "torch.cuda.is_available()"
   ]
  },
  {
   "cell_type": "markdown",
   "id": "130b81d1-be55-4707-8aa2-09c73669e413",
   "metadata": {
    "jp-MarkdownHeadingCollapsed": true,
    "tags": []
   },
   "source": [
    "# code 3_1_2"
   ]
  },
  {
   "cell_type": "code",
   "execution_count": null,
   "id": "16fbb51a-56b3-4ee0-944b-aa6d3a855b88",
   "metadata": {},
   "outputs": [],
   "source": [
    "#安装transfromers\n",
    "!pip install transformers"
   ]
  },
  {
   "cell_type": "code",
   "execution_count": null,
   "id": "e4241aaf-8655-4854-a339-3b354fea96ac",
   "metadata": {},
   "outputs": [],
   "source": [
    "#调用预训练模型mengzi-bert-base，用于后续任务\n",
    "from transformers import AutoTokenizer\n",
    "transformer_model_name = \"Langboat/mengzi-bert-base\"\n",
    "tokenizer = AutoTokenizer.from_pretrained(\n",
    "    transformer_model_name\n",
    ")"
   ]
  },
  {
   "cell_type": "markdown",
   "id": "bceb6480-267a-481b-affd-8afc05426456",
   "metadata": {
    "jp-MarkdownHeadingCollapsed": true,
    "tags": []
   },
   "source": [
    "# code 3_1_3"
   ]
  },
  {
   "cell_type": "code",
   "execution_count": 7,
   "id": "78aa3885-ce99-4738-a592-857693be5b01",
   "metadata": {},
   "outputs": [
    {
     "name": "stdout",
     "output_type": "stream",
     "text": [
      "Looking in indexes: https://repo.huaweicloud.com/repository/pypi/simple\n",
      "Requirement already satisfied: small_text in /root/miniconda3/lib/python3.8/site-packages (1.1.1)\n",
      "Requirement already satisfied: dill in /root/miniconda3/lib/python3.8/site-packages (from small_text) (0.3.5.1)\n",
      "Requirement already satisfied: scikit-learn>=0.24.1 in /root/miniconda3/lib/python3.8/site-packages (from small_text) (1.1.2)\n",
      "Requirement already satisfied: tqdm in /root/miniconda3/lib/python3.8/site-packages (from small_text) (4.63.1)\n",
      "Requirement already satisfied: packaging in /root/miniconda3/lib/python3.8/site-packages (from small_text) (21.3)\n",
      "Requirement already satisfied: scipy in /root/miniconda3/lib/python3.8/site-packages (from small_text) (1.9.3)\n",
      "Requirement already satisfied: numpy>=1.20.0 in /root/miniconda3/lib/python3.8/site-packages (from small_text) (1.22.4)\n",
      "Requirement already satisfied: joblib>=1.0.0 in /root/miniconda3/lib/python3.8/site-packages (from scikit-learn>=0.24.1->small_text) (1.1.0)\n",
      "Requirement already satisfied: threadpoolctl>=2.0.0 in /root/miniconda3/lib/python3.8/site-packages (from scikit-learn>=0.24.1->small_text) (3.1.0)\n",
      "Requirement already satisfied: pyparsing!=3.0.5,>=2.0.2 in /root/miniconda3/lib/python3.8/site-packages (from packaging->small_text) (3.0.9)\n",
      "\u001b[33mWARNING: Running pip as the 'root' user can result in broken permissions and conflicting behaviour with the system package manager. It is recommended to use a virtual environment instead: https://pip.pypa.io/warnings/venv\u001b[0m\u001b[33m\n",
      "\u001b[0m"
     ]
    }
   ],
   "source": [
    "#安装small_text\n",
    "!pip install small_text"
   ]
  },
  {
   "cell_type": "code",
   "execution_count": 9,
   "id": "9b78ba07-ab0e-456f-b9fc-d7044687db7b",
   "metadata": {},
   "outputs": [],
   "source": [
    "#调用常用模块\n",
    "from small_text import TransformersDataset\n",
    "from small_text import TransformerModelArguments\n",
    "from small_text import TransformerBasedClassificationFactory"
   ]
  },
  {
   "cell_type": "markdown",
   "id": "a42a6884-06e8-4708-af67-9145956b9b9c",
   "metadata": {
    "jp-MarkdownHeadingCollapsed": true,
    "tags": []
   },
   "source": [
    "# code 3_2_1"
   ]
  },
  {
   "cell_type": "code",
   "execution_count": 52,
   "id": "32fc7c8e-555d-4c93-b615-cadf749f2e7c",
   "metadata": {},
   "outputs": [],
   "source": [
    "import re\n",
    "\n",
    "class word_freq():\n",
    "    def __init__(self, doc_text , key_word, and_words, replace = '[\\s\\t\\n]', sep ='[.。?!？！]'):\n",
    "        self.doc_text = doc_text\n",
    "        self.key_word = key_word\n",
    "        self.and_words = and_words\n",
    "        self.replace = replace\n",
    "        self.sep = sep\n",
    "        \n",
    "    #第一部分：对政策全文进行语句分割    \n",
    "    def doc2sen(self):\n",
    "        doc = re.sub(self.replace, '', self.doc_text) \n",
    "        sentence_list = re.split(self.sep, self.doc_text)\n",
    "        return sentence_list\n",
    "    \n",
    "    #第二部分：判断每个语句中是否含有该搭配规则\n",
    "    def sen_freq(self, sentence):\n",
    "        \n",
    "        count = 0\n",
    "        key_word_count = sentence.count(self.key_word)\n",
    "    \n",
    "        flag = 0\n",
    "        for i in self.and_words:\n",
    "            flag += sentence.count(i)\n",
    "        if len(self.and_words) == 0:\n",
    "            flag = 1\n",
    "        and_words_count = flag\n",
    "        \n",
    "        if key_word_count > 0 and and_words_count > 0:\n",
    "            count = 1\n",
    "        \n",
    "        return count \n",
    "            \n",
    "    #第三部分：对政策全文进行加总统计\n",
    "    def count(self):\n",
    "        self.sentence_list = self.doc2sen()\n",
    "        count = 0\n",
    "        for sentence in self.sentence_list:\n",
    "            count += self.sen_freq(sentence)\n",
    "        return count"
   ]
  },
  {
   "cell_type": "markdown",
   "id": "45c491f2-e982-4464-ba00-40ca0ce3aa25",
   "metadata": {
    "jp-MarkdownHeadingCollapsed": true,
    "tags": []
   },
   "source": [
    "# code 3_2_2"
   ]
  },
  {
   "cell_type": "code",
   "execution_count": 53,
   "id": "0d8703c0-f413-4d0a-b49f-eb9492a3a559",
   "metadata": {},
   "outputs": [],
   "source": [
    "doc_text = \"\"\"全面推进按病种付费、按人头付费、按床日付费等复合型支付方式改革，开展按疾病诊断相关分组（DRGs）收付费试点，\n",
    "进一步扩大支付方式改革对定点医疗机构和参合患者的覆盖面。将对医疗机构个体的总额控制转变为区域内总额控制，探索开展点数法付费。\n",
    "建立健全支付方式改革联系点工作机制，加强对支付方式改革的指导、评估和总结。助力分级诊疗制度建设，将符合规定的家庭医生签约服\n",
    "务费纳入医保支付范围。支持区域医疗服务一体化改革，探索通过总额预付等支付政策的引导与调控，促进城市紧密型医联体、县域医共体\n",
    "内各级医疗机构规范服务、上下联动、分工协作、主动控费。启动实施按照药品通用名称制订新农合药品支付标准，配合做好医疗服务价格\n",
    "改革，探索制订新农合医疗服务支付标准，协同推进药品和医疗服务价格改革。\"\"\""
   ]
  },
  {
   "cell_type": "code",
   "execution_count": 54,
   "id": "c790c633-8a4a-42bd-8fd7-bdee6ad83cd8",
   "metadata": {},
   "outputs": [
    {
     "data": {
      "text/plain": [
       "1"
      ]
     },
     "execution_count": 54,
     "metadata": {},
     "output_type": "execute_result"
    }
   ],
   "source": [
    "key_word = '总额控制'\n",
    "and_words = []\n",
    "freq = word_freq(doc_text, key_word, and_words).count()\n",
    "freq"
   ]
  },
  {
   "cell_type": "code",
   "execution_count": 56,
   "id": "ae178009-e613-4e46-83f5-6a504d801281",
   "metadata": {},
   "outputs": [
    {
     "data": {
      "text/plain": [
       "1"
      ]
     },
     "execution_count": 56,
     "metadata": {},
     "output_type": "execute_result"
    }
   ],
   "source": [
    "key_word = '按人头'\n",
    "and_words = ['推进']\n",
    "freq = word_freq(doc_text, key_word, and_words).count()\n",
    "freq"
   ]
  },
  {
   "cell_type": "code",
   "execution_count": null,
   "id": "61b44b75-26a4-4587-bced-d4d91ed1dc60",
   "metadata": {},
   "outputs": [],
   "source": []
  },
  {
   "cell_type": "markdown",
   "id": "e6980d60-7e58-41ab-899f-912bbbbdf0c5",
   "metadata": {
    "jp-MarkdownHeadingCollapsed": true,
    "tags": []
   },
   "source": [
    "# code 3_3_1"
   ]
  },
  {
   "cell_type": "code",
   "execution_count": 1,
   "id": "a8966b15-eeb5-4207-a68b-bf6bc463867e",
   "metadata": {},
   "outputs": [],
   "source": [
    "import datasets\n",
    "import torch\n",
    "\n",
    "import pandas as pd\n",
    "import numpy as np\n",
    "\n",
    "import logging\n",
    "logging.getLogger('small_text').setLevel(logging.INFO)\n",
    "import warnings\n",
    "warnings.filterwarnings(\"ignore\")\n",
    "\n",
    "from sklearn.metrics import accuracy_score\n",
    "from transformers import AutoTokenizer\n",
    "from small_text import TransformersDataset\n",
    "from small_text import TransformerModelArguments\n",
    "from small_text import TransformerBasedClassificationFactory,\n",
    "\n",
    "# fix the random seed\n",
    "seed = 2022\n",
    "torch.manual_seed(seed)\n",
    "np.random.seed(seed)"
   ]
  },
  {
   "cell_type": "code",
   "execution_count": 39,
   "id": "3622ae9c-8de1-462a-b68f-37312a5a453c",
   "metadata": {},
   "outputs": [
    {
     "name": "stdout",
     "output_type": "stream",
     "text": [
      "训练集数量为： 34704 \n",
      "测试集数量为： 8676 \n",
      "标签类数量为： 2\n"
     ]
    }
   ],
   "source": [
    "#第一部分：数据预处理\n",
    "df = pd.read_csv('sample_多分类.csv')\n",
    "df['label'] = 0\n",
    "df.loc[df['categories']=='支付方式改革','label'] = 1\n",
    "#df.head(3)\n",
    "train = df.sample(frac=0.8)\n",
    "test = df[~df.index.isin(train.index)]\n",
    "num_classes = np.unique(train['label']).shape[0]\n",
    "\n",
    "print('训练集数量为：',len(train),\n",
    "      '\\n测试集数量为：',len(test),\n",
    "      '\\n标签类数量为：',num_classes)"
   ]
  },
  {
   "cell_type": "code",
   "execution_count": 4,
   "id": "fa09912f-dbfa-4773-8d2a-7d2d455df64a",
   "metadata": {},
   "outputs": [
    {
     "name": "stderr",
     "output_type": "stream",
     "text": [
      "34704it [00:07, 4944.95it/s]\n",
      "8676it [00:01, 4932.36it/s]\n"
     ]
    }
   ],
   "source": [
    "#第二部分：训练模型\n",
    "\n",
    "## 将文本数据封装\n",
    "transformer_model_name = \"Langboat/mengzi-bert-base\"\n",
    "tokenizer = AutoTokenizer.from_pretrained(\n",
    "    transformer_model_name\n",
    ")\n",
    "transformer_model = TransformerModelArguments(transformer_model_name)\n",
    "train = TransformersDataset.from_arrays(list(train['text']),\n",
    "                                        list(train['label']),\n",
    "                                        tokenizer,\n",
    "                                        max_length=90)\n",
    "test = TransformersDataset.from_arrays(list(test['text']), \n",
    "                                       list(test['label']),\n",
    "                                       tokenizer,\n",
    "                                       max_length=90)"
   ]
  },
  {
   "cell_type": "code",
   "execution_count": 5,
   "id": "c3d4eda4-6638-498f-9b5c-381f9e356b45",
   "metadata": {},
   "outputs": [],
   "source": [
    "## 加载预训练模型\n",
    "transformer_model = TransformerModelArguments(transformer_model_name)\n",
    "clf_factory = TransformerBasedClassificationFactory(transformer_model, \n",
    "                                                    num_classes, \n",
    "                                                    kwargs=dict({'device': 'cuda', \n",
    "                                                                 'mini_batch_size': 256,\n",
    "                                                                 'class_weight': 'balanced',\n",
    "                                                                 'num_epochs': 20\n",
    "                                                                }))"
   ]
  },
  {
   "cell_type": "code",
   "execution_count": 6,
   "id": "195b6912-f970-4296-909f-76f3bab7a372",
   "metadata": {},
   "outputs": [
    {
     "name": "stderr",
     "output_type": "stream",
     "text": [
      "123it [01:06,  1.86it/s]\n",
      "100%|██████████| 14/14 [00:02<00:00,  5.61it/s]\n",
      "INFO:small_text.integrations.transformers.classifiers.classification:Epoch: 1 | 00:01:09\n",
      "\tTrain Set Size: 31233\n",
      "\tLoss: 0.0012(train)\t|\tAcc: 97.8%(train)\n",
      "\tLoss: 0.0004(valid)\t|\tAcc: 98.7%(valid)\n",
      "123it [01:06,  1.84it/s]\n",
      "100%|██████████| 14/14 [00:02<00:00,  5.55it/s]\n",
      "INFO:small_text.integrations.transformers.classifiers.classification:Epoch: 2 | 00:01:10\n",
      "\tTrain Set Size: 31233\n",
      "\tLoss: 0.0002(train)\t|\tAcc: 99.4%(train)\n",
      "\tLoss: 0.0003(valid)\t|\tAcc: 99.1%(valid)\n",
      "123it [01:07,  1.83it/s]\n",
      "100%|██████████| 14/14 [00:02<00:00,  5.53it/s]\n",
      "INFO:small_text.integrations.transformers.classifiers.classification:Epoch: 3 | 00:01:11\n",
      "\tTrain Set Size: 31233\n",
      "\tLoss: 0.0001(train)\t|\tAcc: 99.7%(train)\n",
      "\tLoss: 0.0003(valid)\t|\tAcc: 99.0%(valid)\n",
      "123it [01:07,  1.83it/s]\n",
      "100%|██████████| 14/14 [00:02<00:00,  5.52it/s]\n",
      "INFO:small_text.integrations.transformers.classifiers.classification:Epoch: 4 | 00:01:11\n",
      "\tTrain Set Size: 31233\n",
      "\tLoss: 0.0001(train)\t|\tAcc: 99.8%(train)\n",
      "\tLoss: 0.0003(valid)\t|\tAcc: 99.3%(valid)\n",
      "123it [01:07,  1.83it/s]\n",
      "100%|██████████| 14/14 [00:02<00:00,  5.53it/s]\n",
      "INFO:small_text.integrations.transformers.classifiers.classification:Epoch: 5 | 00:01:11\n",
      "\tTrain Set Size: 31233\n",
      "\tLoss: 0.0001(train)\t|\tAcc: 99.9%(train)\n",
      "\tLoss: 0.0005(valid)\t|\tAcc: 99.4%(valid)\n",
      "123it [01:07,  1.82it/s]\n",
      "100%|██████████| 14/14 [00:02<00:00,  5.53it/s]\n",
      "INFO:small_text.integrations.transformers.classifiers.classification:Epoch: 6 | 00:01:11\n",
      "\tTrain Set Size: 31233\n",
      "\tLoss: 0.0000(train)\t|\tAcc: 99.9%(train)\n",
      "\tLoss: 0.0004(valid)\t|\tAcc: 99.3%(valid)\n",
      "123it [01:07,  1.82it/s]\n",
      "100%|██████████| 14/14 [00:02<00:00,  5.54it/s]\n",
      "INFO:small_text.integrations.transformers.classifiers.classification:Epoch: 7 | 00:01:11\n",
      "\tTrain Set Size: 31233\n",
      "\tLoss: 0.0000(train)\t|\tAcc: 100.0%(train)\n",
      "\tLoss: 0.0004(valid)\t|\tAcc: 99.4%(valid)\n",
      "123it [01:07,  1.83it/s]\n",
      "100%|██████████| 14/14 [00:02<00:00,  5.55it/s]\n",
      "INFO:small_text.integrations.transformers.classifiers.classification:Epoch: 8 | 00:01:11\n",
      "\tTrain Set Size: 31233\n",
      "\tLoss: 0.0000(train)\t|\tAcc: 100.0%(train)\n",
      "\tLoss: 0.0005(valid)\t|\tAcc: 99.5%(valid)\n"
     ]
    }
   ],
   "source": [
    "## 使用训练集进行训练\n",
    "clf = clf_factory.new().fit(train)"
   ]
  },
  {
   "cell_type": "code",
   "execution_count": 7,
   "id": "54780e31-4b1d-4eb3-82ff-bc4ece79bf3a",
   "metadata": {},
   "outputs": [
    {
     "name": "stderr",
     "output_type": "stream",
     "text": [
      "100%|██████████| 34/34 [00:06<00:00,  5.57it/s]\n"
     ]
    },
    {
     "data": {
      "text/plain": [
       "(0.00021109832221566567, 0.9949285384970032)"
      ]
     },
     "execution_count": 7,
     "metadata": {},
     "output_type": "execute_result"
    }
   ],
   "source": [
    "#第三部分：测试模型精度\n",
    "clf.validate(test)"
   ]
  },
  {
   "cell_type": "markdown",
   "id": "63c7c3c8-30fd-4cff-b9ef-b34dd59fe899",
   "metadata": {
    "jp-MarkdownHeadingCollapsed": true,
    "tags": []
   },
   "source": [
    "# code 3_3_2"
   ]
  },
  {
   "cell_type": "code",
   "execution_count": 35,
   "id": "263cdc74-cdaf-4559-9d50-2aa485a14e97",
   "metadata": {},
   "outputs": [],
   "source": [
    "def pred(text, model):\n",
    "    pred_df = TransformersDataset.from_arrays([text],[0],tokenizer,max_length=90)\n",
    "    output = model.predict_proba(pred_df)\n",
    "    print(\" 预测为非支付方式改革的概率为{:.4f}%\\n\".format(output[0][0]*100),\n",
    "          \"预测为支付方式改革的概率为{:.4f}%\".format(output[0][1]*100))"
   ]
  },
  {
   "cell_type": "code",
   "execution_count": 36,
   "id": "2bf6aecc-3d4b-49c7-a70e-af25fb1dc9d2",
   "metadata": {},
   "outputs": [],
   "source": [
    "text = \"\"\"全面推进按病种付费、按人头付费、按床日付费等复\n",
    "合型支付方式改革，开展按疾病诊断相关分组（DRGs）收付费试点，\n",
    "进一步扩大支付方式改革对定点医疗机构和参合患者的覆盖面。\"\"\"\n",
    "model = clf"
   ]
  },
  {
   "cell_type": "code",
   "execution_count": 37,
   "id": "71719ca8-51e1-48a8-804e-877416ac0f6f",
   "metadata": {},
   "outputs": [
    {
     "name": "stderr",
     "output_type": "stream",
     "text": [
      "1it [00:00, 1258.04it/s]\n",
      "100%|██████████| 1/1 [00:00<00:00, 111.01it/s]"
     ]
    },
    {
     "name": "stdout",
     "output_type": "stream",
     "text": [
      " 预测为非支付方式改革的概率为0.0012%\n",
      " 预测为支付方式改革的概率为99.9988%\n"
     ]
    },
    {
     "name": "stderr",
     "output_type": "stream",
     "text": [
      "\n"
     ]
    }
   ],
   "source": [
    "pred(text, model)"
   ]
  },
  {
   "cell_type": "markdown",
   "id": "5994b2ac-e822-4b5a-a240-467341a88e36",
   "metadata": {
    "jp-MarkdownHeadingCollapsed": true,
    "tags": []
   },
   "source": [
    "# code 3_4_1"
   ]
  },
  {
   "cell_type": "markdown",
   "id": "f42da5b2-ebcf-46a1-adf9-d4019aca3c39",
   "metadata": {},
   "source": [
    "## 1) 导入数据集，加载模型"
   ]
  },
  {
   "cell_type": "code",
   "execution_count": 1,
   "id": "8699e40c-7e86-4bb4-be89-9d7b8d8bc474",
   "metadata": {},
   "outputs": [],
   "source": [
    "import datasets\n",
    "import torch\n",
    "\n",
    "import pandas as pd\n",
    "import numpy as np\n",
    "\n",
    "import logging\n",
    "logging.getLogger('small_text').setLevel(logging.INFO)\n",
    "import warnings\n",
    "warnings.filterwarnings(\"ignore\")\n",
    "\n",
    "from sklearn.metrics import accuracy_score\n",
    "from transformers import AutoTokenizer\n",
    "from small_text import TransformersDataset\n",
    "from small_text import TransformerModelArguments\n",
    "from small_text import (\n",
    "    PoolBasedActiveLearner,\n",
    "    PredictionEntropy,\n",
    "    TransformerBasedClassificationFactory,\n",
    "    random_initialization_balanced,\n",
    "    random_initialization)\n",
    "\n",
    "# fix the random seed\n",
    "seed = 2022\n",
    "torch.manual_seed(seed)\n",
    "np.random.seed(seed)"
   ]
  },
  {
   "cell_type": "code",
   "execution_count": 2,
   "id": "26789750-a908-4f34-92af-f57e3f78a8cc",
   "metadata": {},
   "outputs": [
    {
     "name": "stdout",
     "output_type": "stream",
     "text": [
      "训练集数量为： 34704 \n",
      "测试集数量为： 8676 \n",
      "标签类数量为： 2\n"
     ]
    }
   ],
   "source": [
    "df = pd.read_csv('sample_多分类.csv')\n",
    "df['label'] = 0\n",
    "df.loc[df['categories'] == '支付方式改革','label'] = 1\n",
    "#df.head(3)\n",
    "train = df.sample(frac = 0.8)\n",
    "test = df[~df.index.isin(train.index)]\n",
    "num_classes = np.unique(train['label']).shape[0]\n",
    "\n",
    "print('训练集数量为：',len(train),\n",
    "      '\\n测试集数量为：',len(test),\n",
    "      '\\n标签类数量为：',num_classes)"
   ]
  },
  {
   "cell_type": "code",
   "execution_count": 3,
   "id": "144de9ae-e08f-482c-82e7-e39f062fdf56",
   "metadata": {},
   "outputs": [
    {
     "name": "stderr",
     "output_type": "stream",
     "text": [
      "34704it [00:06, 5016.15it/s]\n",
      "8676it [00:01, 4963.12it/s]\n"
     ]
    }
   ],
   "source": [
    "transformer_model_name = \"Langboat/mengzi-bert-base\"\n",
    "tokenizer = AutoTokenizer.from_pretrained(\n",
    "    transformer_model_name\n",
    ")\n",
    "\n",
    "transformer_model = TransformerModelArguments(transformer_model_name)\n",
    "train_da = TransformersDataset.from_arrays(list(train['text']),\n",
    "                                        list(train['label']),\n",
    "                                        tokenizer,\n",
    "                                        max_length=90)\n",
    "test_da = TransformersDataset.from_arrays(list(test['text']), \n",
    "                                       list(test['label']),\n",
    "                                       tokenizer,\n",
    "                                       max_length=90)\n",
    "\n",
    "transformer_model = TransformerModelArguments(transformer_model_name)\n",
    "clf_factory = TransformerBasedClassificationFactory(transformer_model, \n",
    "                                                    num_classes, \n",
    "                                                    kwargs=dict({'device': 'cuda', \n",
    "                                                                 'mini_batch_size': 128,\n",
    "                                                                 'class_weight': 'balanced',\n",
    "                                                                 'num_epochs': 20\n",
    "                                                                }))"
   ]
  },
  {
   "cell_type": "markdown",
   "id": "14c8711b-022b-48d0-a914-731a5f3289a7",
   "metadata": {
    "tags": []
   },
   "source": [
    "## 2) 标注初始训练预料，训练并测试模型"
   ]
  },
  {
   "cell_type": "code",
   "execution_count": 4,
   "id": "0c4fa3d2-6bf0-4650-bb7c-5b7737cb19b0",
   "metadata": {},
   "outputs": [
    {
     "data": {
      "text/html": [
       "<div>\n",
       "<style scoped>\n",
       "    .dataframe tbody tr th:only-of-type {\n",
       "        vertical-align: middle;\n",
       "    }\n",
       "\n",
       "    .dataframe tbody tr th {\n",
       "        vertical-align: top;\n",
       "    }\n",
       "\n",
       "    .dataframe thead th {\n",
       "        text-align: right;\n",
       "    }\n",
       "</style>\n",
       "<table border=\"1\" class=\"dataframe\">\n",
       "  <thead>\n",
       "    <tr style=\"text-align: right;\">\n",
       "      <th></th>\n",
       "      <th>id</th>\n",
       "      <th>text</th>\n",
       "      <th>categories</th>\n",
       "      <th>label</th>\n",
       "    </tr>\n",
       "  </thead>\n",
       "  <tbody>\n",
       "    <tr>\n",
       "      <th>15861</th>\n",
       "      <td>17079</td>\n",
       "      <td>鼓励社会资本举办专科，支持社会资本举办高端；控制开展特需服务的比例</td>\n",
       "      <td>非支付方式改革</td>\n",
       "      <td>0</td>\n",
       "    </tr>\n",
       "    <tr>\n",
       "      <th>11172</th>\n",
       "      <td>12074</td>\n",
       "      <td>放宽服务领域要求，凡是法律法规没有明令禁入的领域，均向社会资本开放</td>\n",
       "      <td>非支付方式改革</td>\n",
       "      <td>0</td>\n",
       "    </tr>\n",
       "    <tr>\n",
       "      <th>31430</th>\n",
       "      <td>35047</td>\n",
       "      <td>省医保局第一时间主持召开党组（扩大）会议，传达学习《中共中央国务院关于深化医疗保障制度改革的...</td>\n",
       "      <td>非支付方式改革</td>\n",
       "      <td>0</td>\n",
       "    </tr>\n",
       "    <tr>\n",
       "      <th>18052</th>\n",
       "      <td>19562</td>\n",
       "      <td>（二）推进医联体内部资源整合</td>\n",
       "      <td>非支付方式改革</td>\n",
       "      <td>0</td>\n",
       "    </tr>\n",
       "    <tr>\n",
       "      <th>19608</th>\n",
       "      <td>21296</td>\n",
       "      <td>2015年10月28日</td>\n",
       "      <td>非支付方式改革</td>\n",
       "      <td>0</td>\n",
       "    </tr>\n",
       "    <tr>\n",
       "      <th>...</th>\n",
       "      <td>...</td>\n",
       "      <td>...</td>\n",
       "      <td>...</td>\n",
       "      <td>...</td>\n",
       "    </tr>\n",
       "    <tr>\n",
       "      <th>29062</th>\n",
       "      <td>32283</td>\n",
       "      <td>90日内跨年度办理转移接续手续的，可自愿选择是否补缴上年度医保费（包括个人缴费和各级财政补助...</td>\n",
       "      <td>非支付方式改革</td>\n",
       "      <td>0</td>\n",
       "    </tr>\n",
       "    <tr>\n",
       "      <th>20621</th>\n",
       "      <td>22414</td>\n",
       "      <td>改革要与地区经济社会和医疗卫生事业发展水平相协调，与财政和医疗保障承受能力相适应，鼓励结合实...</td>\n",
       "      <td>非支付方式改革</td>\n",
       "      <td>0</td>\n",
       "    </tr>\n",
       "    <tr>\n",
       "      <th>7254</th>\n",
       "      <td>7687</td>\n",
       "      <td>“十二五”以来，特别是党的十八大以来，在市委市政府的坚强领导下，全市认真贯彻落实中央以及省上...</td>\n",
       "      <td>非支付方式改革</td>\n",
       "      <td>0</td>\n",
       "    </tr>\n",
       "    <tr>\n",
       "      <th>36915</th>\n",
       "      <td>42077</td>\n",
       "      <td>严格执行医院财务会计制度,实行总会计师制</td>\n",
       "      <td>非支付方式改革</td>\n",
       "      <td>0</td>\n",
       "    </tr>\n",
       "    <tr>\n",
       "      <th>13847</th>\n",
       "      <td>14869</td>\n",
       "      <td>加强医疗卫生机构信息化建设，进一步促进HIS信息管理系统和LIS、PACS等辅助业务系统的完...</td>\n",
       "      <td>非支付方式改革</td>\n",
       "      <td>0</td>\n",
       "    </tr>\n",
       "  </tbody>\n",
       "</table>\n",
       "<p>100 rows × 4 columns</p>\n",
       "</div>"
      ],
      "text/plain": [
       "          id                                               text categories  \\\n",
       "15861  17079                  鼓励社会资本举办专科，支持社会资本举办高端；控制开展特需服务的比例    非支付方式改革   \n",
       "11172  12074                  放宽服务领域要求，凡是法律法规没有明令禁入的领域，均向社会资本开放    非支付方式改革   \n",
       "31430  35047  省医保局第一时间主持召开党组（扩大）会议，传达学习《中共中央国务院关于深化医疗保障制度改革的...    非支付方式改革   \n",
       "18052  19562                                     （二）推进医联体内部资源整合    非支付方式改革   \n",
       "19608  21296                                        2015年10月28日    非支付方式改革   \n",
       "...      ...                                                ...        ...   \n",
       "29062  32283  90日内跨年度办理转移接续手续的，可自愿选择是否补缴上年度医保费（包括个人缴费和各级财政补助...    非支付方式改革   \n",
       "20621  22414  改革要与地区经济社会和医疗卫生事业发展水平相协调，与财政和医疗保障承受能力相适应，鼓励结合实...    非支付方式改革   \n",
       "7254    7687  “十二五”以来，特别是党的十八大以来，在市委市政府的坚强领导下，全市认真贯彻落实中央以及省上...    非支付方式改革   \n",
       "36915  42077                               严格执行医院财务会计制度,实行总会计师制    非支付方式改革   \n",
       "13847  14869  加强医疗卫生机构信息化建设，进一步促进HIS信息管理系统和LIS、PACS等辅助业务系统的完...    非支付方式改革   \n",
       "\n",
       "       label  \n",
       "15861      0  \n",
       "11172      0  \n",
       "31430      0  \n",
       "18052      0  \n",
       "19608      0  \n",
       "...      ...  \n",
       "29062      0  \n",
       "20621      0  \n",
       "7254       0  \n",
       "36915      0  \n",
       "13847      0  \n",
       "\n",
       "[100 rows x 4 columns]"
      ]
     },
     "execution_count": 4,
     "metadata": {},
     "output_type": "execute_result"
    }
   ],
   "source": [
    "## 初始100个语料\n",
    "indices_initial = random_initialization(train_da, n_samples = 100)\n",
    "train.iloc[indices_initial,:]"
   ]
  },
  {
   "cell_type": "code",
   "execution_count": 5,
   "id": "adb3369d-e1df-464d-9873-a89679085aad",
   "metadata": {},
   "outputs": [
    {
     "name": "stderr",
     "output_type": "stream",
     "text": [
      "1it [00:00,  4.56it/s]\n",
      "100%|██████████| 1/1 [00:00<00:00, 93.82it/s]\n",
      "INFO:small_text.integrations.transformers.classifiers.classification:Epoch: 1 | 00:00:01\n",
      "\tTrain Set Size: 90\n",
      "\tLoss: 0.0097(train)\t|\tAcc: 95.6%(train)\n",
      "\tLoss: 0.1483(valid)\t|\tAcc: 90.0%(valid)\n",
      "1it [00:00,  4.58it/s]\n",
      "100%|██████████| 1/1 [00:00<00:00, 96.09it/s]\n",
      "INFO:small_text.integrations.transformers.classifiers.classification:Epoch: 2 | 00:00:01\n",
      "\tTrain Set Size: 90\n",
      "\tLoss: 0.0093(train)\t|\tAcc: 95.6%(train)\n",
      "\tLoss: 0.1462(valid)\t|\tAcc: 90.0%(valid)\n",
      "1it [00:00,  4.52it/s]\n",
      "100%|██████████| 1/1 [00:00<00:00, 89.52it/s]\n",
      "INFO:small_text.integrations.transformers.classifiers.classification:Epoch: 3 | 00:00:01\n",
      "\tTrain Set Size: 90\n",
      "\tLoss: 0.0087(train)\t|\tAcc: 95.6%(train)\n",
      "\tLoss: 0.1443(valid)\t|\tAcc: 90.0%(valid)\n",
      "1it [00:00,  4.58it/s]\n",
      "100%|██████████| 1/1 [00:00<00:00, 91.33it/s]\n",
      "INFO:small_text.integrations.transformers.classifiers.classification:Epoch: 4 | 00:00:01\n",
      "\tTrain Set Size: 90\n",
      "\tLoss: 0.0090(train)\t|\tAcc: 95.6%(train)\n",
      "\tLoss: 0.1429(valid)\t|\tAcc: 90.0%(valid)\n",
      "1it [00:00,  4.16it/s]\n",
      "100%|██████████| 1/1 [00:00<00:00, 95.62it/s]\n",
      "INFO:small_text.integrations.transformers.classifiers.classification:Epoch: 5 | 00:00:01\n",
      "\tTrain Set Size: 90\n",
      "\tLoss: 0.0093(train)\t|\tAcc: 95.6%(train)\n",
      "\tLoss: 0.1412(valid)\t|\tAcc: 90.0%(valid)\n",
      "1it [00:00,  4.61it/s]\n",
      "100%|██████████| 1/1 [00:00<00:00, 93.42it/s]\n",
      "INFO:small_text.integrations.transformers.classifiers.classification:Epoch: 6 | 00:00:01\n",
      "\tTrain Set Size: 90\n",
      "\tLoss: 0.0087(train)\t|\tAcc: 95.6%(train)\n",
      "\tLoss: 0.1396(valid)\t|\tAcc: 90.0%(valid)\n",
      "1it [00:00,  4.53it/s]\n",
      "100%|██████████| 1/1 [00:00<00:00, 92.31it/s]\n",
      "INFO:small_text.integrations.transformers.classifiers.classification:Epoch: 7 | 00:00:01\n",
      "\tTrain Set Size: 90\n",
      "\tLoss: 0.0086(train)\t|\tAcc: 95.6%(train)\n",
      "\tLoss: 0.1381(valid)\t|\tAcc: 90.0%(valid)\n",
      "1it [00:00,  4.57it/s]\n",
      "100%|██████████| 1/1 [00:00<00:00, 92.38it/s]\n",
      "INFO:small_text.integrations.transformers.classifiers.classification:Epoch: 8 | 00:00:01\n",
      "\tTrain Set Size: 90\n",
      "\tLoss: 0.0085(train)\t|\tAcc: 95.6%(train)\n",
      "\tLoss: 0.1368(valid)\t|\tAcc: 90.0%(valid)\n",
      "1it [00:00,  4.60it/s]\n",
      "100%|██████████| 1/1 [00:00<00:00, 92.99it/s]\n",
      "INFO:small_text.integrations.transformers.classifiers.classification:Epoch: 9 | 00:00:01\n",
      "\tTrain Set Size: 90\n",
      "\tLoss: 0.0081(train)\t|\tAcc: 95.6%(train)\n",
      "\tLoss: 0.1356(valid)\t|\tAcc: 90.0%(valid)\n",
      "1it [00:00,  4.51it/s]\n",
      "100%|██████████| 1/1 [00:00<00:00, 97.15it/s]\n",
      "INFO:small_text.integrations.transformers.classifiers.classification:Epoch: 10 | 00:00:01\n",
      "\tTrain Set Size: 90\n",
      "\tLoss: 0.0077(train)\t|\tAcc: 95.6%(train)\n",
      "\tLoss: 0.1343(valid)\t|\tAcc: 90.0%(valid)\n",
      "1it [00:00,  4.60it/s]\n",
      "100%|██████████| 1/1 [00:00<00:00, 95.15it/s]\n",
      "INFO:small_text.integrations.transformers.classifiers.classification:Epoch: 11 | 00:00:01\n",
      "\tTrain Set Size: 90\n",
      "\tLoss: 0.0071(train)\t|\tAcc: 96.7%(train)\n",
      "\tLoss: 0.1331(valid)\t|\tAcc: 90.0%(valid)\n",
      "1it [00:00,  4.47it/s]\n",
      "100%|██████████| 1/1 [00:00<00:00, 90.24it/s]\n",
      "INFO:small_text.integrations.transformers.classifiers.classification:Epoch: 12 | 00:00:01\n",
      "\tTrain Set Size: 90\n",
      "\tLoss: 0.0067(train)\t|\tAcc: 96.7%(train)\n",
      "\tLoss: 0.1320(valid)\t|\tAcc: 90.0%(valid)\n",
      "1it [00:00,  4.52it/s]\n",
      "100%|██████████| 1/1 [00:00<00:00, 91.23it/s]\n",
      "INFO:small_text.integrations.transformers.classifiers.classification:Epoch: 13 | 00:00:01\n",
      "\tTrain Set Size: 90\n",
      "\tLoss: 0.0062(train)\t|\tAcc: 98.9%(train)\n",
      "\tLoss: 0.1310(valid)\t|\tAcc: 90.0%(valid)\n",
      "1it [00:00,  4.45it/s]\n",
      "100%|██████████| 1/1 [00:00<00:00, 95.18it/s]\n",
      "INFO:small_text.integrations.transformers.classifiers.classification:Epoch: 14 | 00:00:01\n",
      "\tTrain Set Size: 90\n",
      "\tLoss: 0.0063(train)\t|\tAcc: 98.9%(train)\n",
      "\tLoss: 0.1304(valid)\t|\tAcc: 90.0%(valid)\n",
      "1it [00:00,  4.51it/s]\n",
      "100%|██████████| 1/1 [00:00<00:00, 79.25it/s]\n",
      "INFO:small_text.integrations.transformers.classifiers.classification:Epoch: 15 | 00:00:01\n",
      "\tTrain Set Size: 90\n",
      "\tLoss: 0.0066(train)\t|\tAcc: 97.8%(train)\n",
      "\tLoss: 0.1301(valid)\t|\tAcc: 90.0%(valid)\n",
      "1it [00:00,  4.59it/s]\n",
      "100%|██████████| 1/1 [00:00<00:00, 93.03it/s]\n",
      "INFO:small_text.integrations.transformers.classifiers.classification:Epoch: 16 | 00:00:01\n",
      "\tTrain Set Size: 90\n",
      "\tLoss: 0.0063(train)\t|\tAcc: 97.8%(train)\n",
      "\tLoss: 0.1299(valid)\t|\tAcc: 90.0%(valid)\n",
      "1it [00:00,  4.52it/s]\n",
      "100%|██████████| 1/1 [00:00<00:00, 92.57it/s]\n",
      "INFO:small_text.integrations.transformers.classifiers.classification:Epoch: 17 | 00:00:01\n",
      "\tTrain Set Size: 90\n",
      "\tLoss: 0.0059(train)\t|\tAcc: 100.0%(train)\n",
      "\tLoss: 0.1299(valid)\t|\tAcc: 90.0%(valid)\n",
      "1it [00:00,  4.52it/s]\n",
      "100%|██████████| 1/1 [00:00<00:00, 94.31it/s]\n",
      "INFO:small_text.integrations.transformers.classifiers.classification:Epoch: 18 | 00:00:01\n",
      "\tTrain Set Size: 90\n",
      "\tLoss: 0.0060(train)\t|\tAcc: 98.9%(train)\n",
      "\tLoss: 0.1298(valid)\t|\tAcc: 90.0%(valid)\n",
      "1it [00:00,  4.54it/s]\n",
      "100%|██████████| 1/1 [00:00<00:00, 95.17it/s]\n",
      "INFO:small_text.integrations.transformers.classifiers.classification:Epoch: 19 | 00:00:01\n",
      "\tTrain Set Size: 90\n",
      "\tLoss: 0.0060(train)\t|\tAcc: 98.9%(train)\n",
      "\tLoss: 0.1299(valid)\t|\tAcc: 90.0%(valid)\n",
      "1it [00:00,  4.59it/s]\n",
      "100%|██████████| 1/1 [00:00<00:00, 92.90it/s]\n",
      "INFO:small_text.integrations.transformers.classifiers.classification:Epoch: 20 | 00:00:01\n",
      "\tTrain Set Size: 90\n",
      "\tLoss: 0.0059(train)\t|\tAcc: 100.0%(train)\n",
      "\tLoss: 0.1299(valid)\t|\tAcc: 90.0%(valid)\n"
     ]
    }
   ],
   "source": [
    "## 训练模型\n",
    "query_strategy = PredictionEntropy()\n",
    "active_learner = PoolBasedActiveLearner(clf_factory, query_strategy, train_da)\n",
    "active_learner.initialize_data(indices_initial, train_da.y[indices_initial])"
   ]
  },
  {
   "cell_type": "code",
   "execution_count": 6,
   "id": "1bc2944e-db87-4bbf-ae55-85de27f7bfa3",
   "metadata": {},
   "outputs": [
    {
     "name": "stderr",
     "output_type": "stream",
     "text": [
      "100%|██████████| 68/68 [00:06<00:00, 10.92it/s]\n"
     ]
    },
    {
     "data": {
      "text/plain": [
       "(0.006701560830976514, 0.9416781927155371)"
      ]
     },
     "execution_count": 6,
     "metadata": {},
     "output_type": "execute_result"
    }
   ],
   "source": [
    "## 测试模型精度\n",
    "active_learner.classifier.validate(test_da)"
   ]
  },
  {
   "cell_type": "code",
   "execution_count": 7,
   "id": "24fdab4d-678d-4303-bebf-d1d171a340e2",
   "metadata": {},
   "outputs": [],
   "source": [
    "def pred(text, model):\n",
    "    pred_df = TransformersDataset.from_arrays([text],[0],tokenizer,max_length=90)\n",
    "    output = model.predict_proba(pred_df)\n",
    "    print(\" 预测为非支付方式改革的概率为{:.4f}%\\n\".format(output[0][0]*100),\n",
    "          \"预测为支付方式改革的概率为{:.4f}%\".format(output[0][1]*100))"
   ]
  },
  {
   "cell_type": "code",
   "execution_count": 8,
   "id": "db0a4767-3832-4bea-b925-88c2a4d2fe7a",
   "metadata": {},
   "outputs": [],
   "source": [
    "text = \"\"\"全面推进按病种付费、按人头付费、按床日付费等复\n",
    "合型支付方式改革，开展按疾病诊断相关分组（DRGs）收付费试点，\n",
    "进一步扩大支付方式改革对定点医疗机构和参合患者的覆盖面。\"\"\"\n",
    "model = active_learner.classifier"
   ]
  },
  {
   "cell_type": "code",
   "execution_count": 9,
   "id": "04b1b14b-ad06-47aa-8df3-0b06905aeb4d",
   "metadata": {},
   "outputs": [
    {
     "name": "stderr",
     "output_type": "stream",
     "text": [
      "1it [00:00, 790.33it/s]\n",
      "100%|██████████| 1/1 [00:00<00:00, 67.93it/s]"
     ]
    },
    {
     "name": "stdout",
     "output_type": "stream",
     "text": [
      " 预测为非支付方式改革的概率为80.3474%\n",
      " 预测为支付方式改革的概率为19.6525%\n"
     ]
    },
    {
     "name": "stderr",
     "output_type": "stream",
     "text": [
      "\n"
     ]
    }
   ],
   "source": [
    "pred(text, model)"
   ]
  },
  {
   "cell_type": "markdown",
   "id": "a3f5b872-2fcd-4ea9-9644-55a22cd086d6",
   "metadata": {},
   "source": [
    "## 3) 标注主动选取预料，更新并测试模型"
   ]
  },
  {
   "cell_type": "code",
   "execution_count": 10,
   "id": "8cd975e1-ade2-473b-82df-069858f8ba39",
   "metadata": {},
   "outputs": [
    {
     "name": "stderr",
     "output_type": "stream",
     "text": [
      "100%|██████████| 272/272 [00:24<00:00, 10.91it/s]\n"
     ]
    },
    {
     "data": {
      "text/html": [
       "<div>\n",
       "<style scoped>\n",
       "    .dataframe tbody tr th:only-of-type {\n",
       "        vertical-align: middle;\n",
       "    }\n",
       "\n",
       "    .dataframe tbody tr th {\n",
       "        vertical-align: top;\n",
       "    }\n",
       "\n",
       "    .dataframe thead th {\n",
       "        text-align: right;\n",
       "    }\n",
       "</style>\n",
       "<table border=\"1\" class=\"dataframe\">\n",
       "  <thead>\n",
       "    <tr style=\"text-align: right;\">\n",
       "      <th></th>\n",
       "      <th>id</th>\n",
       "      <th>text</th>\n",
       "      <th>categories</th>\n",
       "      <th>label</th>\n",
       "    </tr>\n",
       "  </thead>\n",
       "  <tbody>\n",
       "    <tr>\n",
       "      <th>22748</th>\n",
       "      <td>24709</td>\n",
       "      <td>改革完善医疗质量技木、安全和服务评估认证制度，健全市、旗县两级医疗质量控制组织</td>\n",
       "      <td>非支付方式改革</td>\n",
       "      <td>0</td>\n",
       "    </tr>\n",
       "    <tr>\n",
       "      <th>32116</th>\n",
       "      <td>36069</td>\n",
       "      <td>完善不同级别医疗机构的医保差异化支付政策，结合分级诊疗模式和家庭医生签约服务制度建设，引导参...</td>\n",
       "      <td>非支付方式改革</td>\n",
       "      <td>0</td>\n",
       "    </tr>\n",
       "    <tr>\n",
       "      <th>3537</th>\n",
       "      <td>3646</td>\n",
       "      <td>4.完善医务人员评价制度</td>\n",
       "      <td>非支付方式改革</td>\n",
       "      <td>0</td>\n",
       "    </tr>\n",
       "    <tr>\n",
       "      <th>25956</th>\n",
       "      <td>28501</td>\n",
       "      <td>完善药品储备制度，在应急保障的基础上，完善常态短缺药品储备，保证应急药品和基本药物及时供应</td>\n",
       "      <td>非支付方式改革</td>\n",
       "      <td>0</td>\n",
       "    </tr>\n",
       "    <tr>\n",
       "      <th>42071</th>\n",
       "      <td>49108</td>\n",
       "      <td>依托基层定点医疗机构开展门诊统筹，门诊统筹实行按人头付费。通过个人账户功能拓展等方式，逐步实...</td>\n",
       "      <td>支付方式改革</td>\n",
       "      <td>1</td>\n",
       "    </tr>\n",
       "    <tr>\n",
       "      <th>...</th>\n",
       "      <td>...</td>\n",
       "      <td>...</td>\n",
       "      <td>...</td>\n",
       "      <td>...</td>\n",
       "    </tr>\n",
       "    <tr>\n",
       "      <th>11966</th>\n",
       "      <td>12900</td>\n",
       "      <td>强化医疗卫生服务行为和质量监管</td>\n",
       "      <td>非支付方式改革</td>\n",
       "      <td>0</td>\n",
       "    </tr>\n",
       "    <tr>\n",
       "      <th>41923</th>\n",
       "      <td>48636</td>\n",
       "      <td>全面推行总额控制下的按病种分值结算。各县区要将总额控制与病种分值付费相结合，在确定本地区住院...</td>\n",
       "      <td>支付方式改革</td>\n",
       "      <td>1</td>\n",
       "    </tr>\n",
       "    <tr>\n",
       "      <th>42988</th>\n",
       "      <td>50935</td>\n",
       "      <td>完善城乡居民医保门诊医疗保障政策，兼顾普通门诊和门诊大病医疗需求，按照城乡居民医保基金总额1...</td>\n",
       "      <td>非支付方式改革</td>\n",
       "      <td>0</td>\n",
       "    </tr>\n",
       "    <tr>\n",
       "      <th>24513</th>\n",
       "      <td>26760</td>\n",
       "      <td>完善医保关系转移接续政策，基本实现职工医保制度内跨区域转移接续，切实落实各项基本医疗保险制度</td>\n",
       "      <td>非支付方式改革</td>\n",
       "      <td>0</td>\n",
       "    </tr>\n",
       "    <tr>\n",
       "      <th>15087</th>\n",
       "      <td>16202</td>\n",
       "      <td>进一步完善城乡居民基本医保政策和经办管理</td>\n",
       "      <td>非支付方式改革</td>\n",
       "      <td>0</td>\n",
       "    </tr>\n",
       "  </tbody>\n",
       "</table>\n",
       "<p>100 rows × 4 columns</p>\n",
       "</div>"
      ],
      "text/plain": [
       "          id                                               text categories  \\\n",
       "22748  24709            改革完善医疗质量技木、安全和服务评估认证制度，健全市、旗县两级医疗质量控制组织    非支付方式改革   \n",
       "32116  36069  完善不同级别医疗机构的医保差异化支付政策，结合分级诊疗模式和家庭医生签约服务制度建设，引导参...    非支付方式改革   \n",
       "3537    3646                                       4.完善医务人员评价制度    非支付方式改革   \n",
       "25956  28501      完善药品储备制度，在应急保障的基础上，完善常态短缺药品储备，保证应急药品和基本药物及时供应    非支付方式改革   \n",
       "42071  49108  依托基层定点医疗机构开展门诊统筹，门诊统筹实行按人头付费。通过个人账户功能拓展等方式，逐步实...     支付方式改革   \n",
       "...      ...                                                ...        ...   \n",
       "11966  12900                                    强化医疗卫生服务行为和质量监管    非支付方式改革   \n",
       "41923  48636  全面推行总额控制下的按病种分值结算。各县区要将总额控制与病种分值付费相结合，在确定本地区住院...     支付方式改革   \n",
       "42988  50935  完善城乡居民医保门诊医疗保障政策，兼顾普通门诊和门诊大病医疗需求，按照城乡居民医保基金总额1...    非支付方式改革   \n",
       "24513  26760     完善医保关系转移接续政策，基本实现职工医保制度内跨区域转移接续，切实落实各项基本医疗保险制度    非支付方式改革   \n",
       "15087  16202                               进一步完善城乡居民基本医保政策和经办管理    非支付方式改革   \n",
       "\n",
       "       label  \n",
       "22748      0  \n",
       "32116      0  \n",
       "3537       0  \n",
       "25956      0  \n",
       "42071      1  \n",
       "...      ...  \n",
       "11966      0  \n",
       "41923      1  \n",
       "42988      0  \n",
       "24513      0  \n",
       "15087      0  \n",
       "\n",
       "[100 rows x 4 columns]"
      ]
     },
     "execution_count": 10,
     "metadata": {},
     "output_type": "execute_result"
    }
   ],
   "source": [
    "# 主动选取100语料，打上标签\n",
    "indices_queried = active_learner.query(num_samples = 100)\n",
    "train.iloc[indices_queried,:]"
   ]
  },
  {
   "cell_type": "code",
   "execution_count": 11,
   "id": "55f921f1-4ae3-4345-ad26-0d0e4fc539a6",
   "metadata": {},
   "outputs": [
    {
     "name": "stderr",
     "output_type": "stream",
     "text": [
      "2it [00:00,  4.54it/s]\n",
      "100%|██████████| 1/1 [00:00<00:00, 48.29it/s]\n",
      "INFO:small_text.integrations.transformers.classifiers.classification:Epoch: 1 | 00:00:01\n",
      "\tTrain Set Size: 180\n",
      "\tLoss: 0.0080(train)\t|\tAcc: 80.6%(train)\n",
      "\tLoss: 0.0335(valid)\t|\tAcc: 75.0%(valid)\n",
      "2it [00:00,  4.49it/s]\n",
      "100%|██████████| 1/1 [00:00<00:00, 48.81it/s]\n",
      "INFO:small_text.integrations.transformers.classifiers.classification:Epoch: 2 | 00:00:01\n",
      "\tTrain Set Size: 180\n",
      "\tLoss: 0.0075(train)\t|\tAcc: 86.1%(train)\n",
      "\tLoss: 0.0322(valid)\t|\tAcc: 100.0%(valid)\n",
      "2it [00:00,  4.51it/s]\n",
      "100%|██████████| 1/1 [00:00<00:00, 48.08it/s]\n",
      "INFO:small_text.integrations.transformers.classifiers.classification:Epoch: 3 | 00:00:01\n",
      "\tTrain Set Size: 180\n",
      "\tLoss: 0.0071(train)\t|\tAcc: 91.1%(train)\n",
      "\tLoss: 0.0295(valid)\t|\tAcc: 100.0%(valid)\n",
      "2it [00:00,  4.54it/s]\n",
      "100%|██████████| 1/1 [00:00<00:00, 47.53it/s]\n",
      "INFO:small_text.integrations.transformers.classifiers.classification:Epoch: 4 | 00:00:01\n",
      "\tTrain Set Size: 180\n",
      "\tLoss: 0.0067(train)\t|\tAcc: 92.8%(train)\n",
      "\tLoss: 0.0252(valid)\t|\tAcc: 100.0%(valid)\n",
      "2it [00:00,  4.52it/s]\n",
      "100%|██████████| 1/1 [00:00<00:00, 47.69it/s]\n",
      "INFO:small_text.integrations.transformers.classifiers.classification:Epoch: 5 | 00:00:01\n",
      "\tTrain Set Size: 180\n",
      "\tLoss: 0.0062(train)\t|\tAcc: 93.9%(train)\n",
      "\tLoss: 0.0221(valid)\t|\tAcc: 100.0%(valid)\n",
      "2it [00:00,  4.48it/s]\n",
      "100%|██████████| 1/1 [00:00<00:00, 48.48it/s]\n",
      "INFO:small_text.integrations.transformers.classifiers.classification:Epoch: 6 | 00:00:01\n",
      "\tTrain Set Size: 180\n",
      "\tLoss: 0.0060(train)\t|\tAcc: 94.4%(train)\n",
      "\tLoss: 0.0204(valid)\t|\tAcc: 100.0%(valid)\n",
      "2it [00:00,  4.54it/s]\n",
      "100%|██████████| 1/1 [00:00<00:00, 48.23it/s]\n",
      "INFO:small_text.integrations.transformers.classifiers.classification:Epoch: 7 | 00:00:01\n",
      "\tTrain Set Size: 180\n",
      "\tLoss: 0.0057(train)\t|\tAcc: 93.9%(train)\n",
      "\tLoss: 0.0191(valid)\t|\tAcc: 100.0%(valid)\n",
      "2it [00:00,  4.59it/s]\n",
      "100%|██████████| 1/1 [00:00<00:00, 48.16it/s]\n",
      "INFO:small_text.integrations.transformers.classifiers.classification:Epoch: 8 | 00:00:01\n",
      "\tTrain Set Size: 180\n",
      "\tLoss: 0.0052(train)\t|\tAcc: 95.0%(train)\n",
      "\tLoss: 0.0180(valid)\t|\tAcc: 100.0%(valid)\n",
      "2it [00:00,  4.49it/s]\n",
      "100%|██████████| 1/1 [00:00<00:00, 48.43it/s]\n",
      "INFO:small_text.integrations.transformers.classifiers.classification:Epoch: 9 | 00:00:01\n",
      "\tTrain Set Size: 180\n",
      "\tLoss: 0.0050(train)\t|\tAcc: 95.6%(train)\n",
      "\tLoss: 0.0170(valid)\t|\tAcc: 100.0%(valid)\n",
      "2it [00:00,  4.51it/s]\n",
      "100%|██████████| 1/1 [00:00<00:00, 48.21it/s]\n",
      "INFO:small_text.integrations.transformers.classifiers.classification:Epoch: 10 | 00:00:01\n",
      "\tTrain Set Size: 180\n",
      "\tLoss: 0.0045(train)\t|\tAcc: 95.6%(train)\n",
      "\tLoss: 0.0161(valid)\t|\tAcc: 100.0%(valid)\n",
      "2it [00:00,  4.59it/s]\n",
      "100%|██████████| 1/1 [00:00<00:00, 48.52it/s]\n",
      "INFO:small_text.integrations.transformers.classifiers.classification:Epoch: 11 | 00:00:01\n",
      "\tTrain Set Size: 180\n",
      "\tLoss: 0.0046(train)\t|\tAcc: 96.7%(train)\n",
      "\tLoss: 0.0154(valid)\t|\tAcc: 100.0%(valid)\n",
      "2it [00:00,  4.57it/s]\n",
      "100%|██████████| 1/1 [00:00<00:00, 48.95it/s]\n",
      "INFO:small_text.integrations.transformers.classifiers.classification:Epoch: 12 | 00:00:01\n",
      "\tTrain Set Size: 180\n",
      "\tLoss: 0.0045(train)\t|\tAcc: 96.1%(train)\n",
      "\tLoss: 0.0149(valid)\t|\tAcc: 100.0%(valid)\n",
      "2it [00:00,  4.58it/s]\n",
      "100%|██████████| 1/1 [00:00<00:00, 48.04it/s]\n",
      "INFO:small_text.integrations.transformers.classifiers.classification:Epoch: 13 | 00:00:01\n",
      "\tTrain Set Size: 180\n",
      "\tLoss: 0.0046(train)\t|\tAcc: 96.7%(train)\n",
      "\tLoss: 0.0145(valid)\t|\tAcc: 100.0%(valid)\n",
      "2it [00:00,  4.49it/s]\n",
      "100%|██████████| 1/1 [00:00<00:00, 48.42it/s]\n",
      "INFO:small_text.integrations.transformers.classifiers.classification:Epoch: 14 | 00:00:01\n",
      "\tTrain Set Size: 180\n",
      "\tLoss: 0.0043(train)\t|\tAcc: 97.2%(train)\n",
      "\tLoss: 0.0141(valid)\t|\tAcc: 100.0%(valid)\n",
      "2it [00:00,  4.59it/s]\n",
      "100%|██████████| 1/1 [00:00<00:00, 48.90it/s]\n",
      "INFO:small_text.integrations.transformers.classifiers.classification:Epoch: 15 | 00:00:01\n",
      "\tTrain Set Size: 180\n",
      "\tLoss: 0.0041(train)\t|\tAcc: 97.2%(train)\n",
      "\tLoss: 0.0139(valid)\t|\tAcc: 100.0%(valid)\n",
      "2it [00:00,  4.67it/s]\n",
      "100%|██████████| 1/1 [00:00<00:00, 48.87it/s]\n",
      "INFO:small_text.integrations.transformers.classifiers.classification:Epoch: 16 | 00:00:01\n",
      "\tTrain Set Size: 180\n",
      "\tLoss: 0.0038(train)\t|\tAcc: 97.8%(train)\n",
      "\tLoss: 0.0136(valid)\t|\tAcc: 100.0%(valid)\n",
      "2it [00:00,  4.63it/s]\n",
      "100%|██████████| 1/1 [00:00<00:00, 48.01it/s]\n",
      "INFO:small_text.integrations.transformers.classifiers.classification:Epoch: 17 | 00:00:01\n",
      "\tTrain Set Size: 180\n",
      "\tLoss: 0.0037(train)\t|\tAcc: 97.8%(train)\n",
      "\tLoss: 0.0134(valid)\t|\tAcc: 100.0%(valid)\n",
      "2it [00:00,  4.61it/s]\n",
      "100%|██████████| 1/1 [00:00<00:00, 48.80it/s]\n",
      "INFO:small_text.integrations.transformers.classifiers.classification:Epoch: 18 | 00:00:01\n",
      "\tTrain Set Size: 180\n",
      "\tLoss: 0.0037(train)\t|\tAcc: 97.8%(train)\n",
      "\tLoss: 0.0132(valid)\t|\tAcc: 100.0%(valid)\n",
      "2it [00:00,  4.54it/s]\n",
      "100%|██████████| 1/1 [00:00<00:00, 48.81it/s]\n",
      "INFO:small_text.integrations.transformers.classifiers.classification:Epoch: 19 | 00:00:01\n",
      "\tTrain Set Size: 180\n",
      "\tLoss: 0.0038(train)\t|\tAcc: 97.8%(train)\n",
      "\tLoss: 0.0131(valid)\t|\tAcc: 100.0%(valid)\n",
      "2it [00:00,  4.57it/s]\n",
      "100%|██████████| 1/1 [00:00<00:00, 48.65it/s]\n",
      "INFO:small_text.integrations.transformers.classifiers.classification:Epoch: 20 | 00:00:01\n",
      "\tTrain Set Size: 180\n",
      "\tLoss: 0.0037(train)\t|\tAcc: 97.8%(train)\n",
      "\tLoss: 0.0131(valid)\t|\tAcc: 100.0%(valid)\n"
     ]
    }
   ],
   "source": [
    "# 使用新加入的语料进行训练\n",
    "y = train_da.y[indices_queried]\n",
    "active_learner.update(y)"
   ]
  },
  {
   "cell_type": "code",
   "execution_count": 12,
   "id": "8222f344-226a-4b74-83c2-35ec2fb136e3",
   "metadata": {},
   "outputs": [
    {
     "name": "stderr",
     "output_type": "stream",
     "text": [
      "100%|██████████| 68/68 [00:06<00:00, 10.88it/s]\n"
     ]
    },
    {
     "data": {
      "text/plain": [
       "(0.0029292461329640854, 0.9586214845550945)"
      ]
     },
     "execution_count": 12,
     "metadata": {},
     "output_type": "execute_result"
    }
   ],
   "source": [
    "# 测试模型精度\n",
    "active_learner.classifier.validate(test_da)"
   ]
  },
  {
   "cell_type": "code",
   "execution_count": 13,
   "id": "bdebf627-51c0-4d0a-bedf-987ed90f8c8a",
   "metadata": {},
   "outputs": [],
   "source": [
    "text = \"\"\"全面推进按病种付费、按人头付费、按床日付费等复\n",
    "合型支付方式改革，开展按疾病诊断相关分组（DRGs）收付费试点，\n",
    "进一步扩大支付方式改革对定点医疗机构和参合患者的覆盖面。\"\"\"\n",
    "model = active_learner.classifier"
   ]
  },
  {
   "cell_type": "code",
   "execution_count": 14,
   "id": "7c505dc6-654e-471d-aeff-f2d151ec25cd",
   "metadata": {},
   "outputs": [
    {
     "name": "stderr",
     "output_type": "stream",
     "text": [
      "1it [00:00, 923.04it/s]\n",
      "100%|██████████| 1/1 [00:00<00:00, 101.28it/s]"
     ]
    },
    {
     "name": "stdout",
     "output_type": "stream",
     "text": [
      " 预测为非支付方式改革的概率为7.1958%\n",
      " 预测为支付方式改革的概率为92.8042%\n"
     ]
    },
    {
     "name": "stderr",
     "output_type": "stream",
     "text": [
      "\n"
     ]
    }
   ],
   "source": [
    "pred(text, model)"
   ]
  },
  {
   "cell_type": "markdown",
   "id": "363f94e3-573a-4bdb-9192-10d8933f8303",
   "metadata": {
    "jp-MarkdownHeadingCollapsed": true,
    "tags": []
   },
   "source": [
    "# pic 1"
   ]
  },
  {
   "cell_type": "code",
   "execution_count": 6,
   "id": "f87875b3-9908-4865-9279-f1247802f4d9",
   "metadata": {},
   "outputs": [],
   "source": [
    "import sqlite3\n",
    "import pandas as pd\n",
    "import numpy as np\n",
    "import matplotlib.pyplot as plt\n",
    "\n",
    "# 必要时终端运行命令：chmod -R 777 /root/autodl-tmp/\n",
    "\n",
    "#不带标签的数据\n",
    "with sqlite3.connect('/root/autodl-tmp/corpus.sqlite') as con:\n",
    "    sql = \"select * from '医疗政策语料' order by random() limit 10000\"\n",
    "    df = pd.read_sql(sql, con = con)  \n",
    "unlabeled = df"
   ]
  },
  {
   "cell_type": "code",
   "execution_count": 15,
   "id": "22ae947a-a15b-4b59-99b5-2a3abd709bfd",
   "metadata": {},
   "outputs": [],
   "source": [
    "import matplotlib\n",
    "from matplotlib.font_manager import FontProperties  \n",
    "font = FontProperties(fname = \"/root/font/simsun.ttc\", size=14)"
   ]
  },
  {
   "cell_type": "code",
   "execution_count": 16,
   "id": "c257a85c-077a-43ac-a839-a2eccf843ea2",
   "metadata": {},
   "outputs": [],
   "source": [
    "# 文本长度分布\n",
    "unlabeled['text_length'] = unlabeled['text'].str.len()"
   ]
  },
  {
   "cell_type": "code",
   "execution_count": 18,
   "id": "33005734-9e49-4820-b0d8-71a1056b10b9",
   "metadata": {},
   "outputs": [
    {
     "data": {
      "image/png": "[encoded data removed]",
      "text/plain": [
       "<Figure size 432x288 with 1 Axes>"
      ]
     },
     "metadata": {
      "needs_background": "light"
     },
     "output_type": "display_data"
    }
   ],
   "source": [
    "unlabeled['text_length'].hist(range=(0,500),  density = True)\n",
    "plt.xlabel('文本长度',fontproperties = font)\n",
    "plt.ylabel('频率',fontproperties = font)\n",
    "plt.title('政策语句文本长度分布',fontproperties = font)\n",
    "plt.show()"
   ]
  },
  {
   "cell_type": "code",
   "execution_count": null,
   "id": "0324697b-2c7f-4609-a1ca-bbd9ec3b0809",
   "metadata": {},
   "outputs": [],
   "source": []
  }
 ],
 "metadata": {
  "kernelspec": {
   "display_name": "Python 3 (ipykernel)",
   "language": "python",
   "name": "python3"
  },
  "language_info": {
   "codemirror_mode": {
    "name": "ipython",
    "version": 3
   },
   "file_extension": ".py",
   "mimetype": "text/x-python",
   "name": "python",
   "nbconvert_exporter": "python",
   "pygments_lexer": "ipython3",
   "version": "3.8.10"
  }
 },
 "nbformat": 4,
 "nbformat_minor": 5
}
